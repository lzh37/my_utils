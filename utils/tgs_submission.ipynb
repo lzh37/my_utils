{
 "cells": [
  {
   "cell_type": "code",
   "execution_count": 16,
   "metadata": {},
   "outputs": [],
   "source": [
    "from data_utils import TgsDataset\n",
    "from rle import mask2rle\n",
    "from torch.utils.data import DataLoader\n",
    "import pandas as pd\n",
    "import numpy as np\n",
    "import torch\n",
    "from skimage import io, transform"
   ]
  },
  {
   "cell_type": "code",
   "execution_count": 2,
   "metadata": {},
   "outputs": [],
   "source": [
    "batch_size = 40\n",
    "test_df = pd.read_csv('tgs/sample_submission.csv')\n",
    "tgs_test_dataset = TgsDataset(test_df,'tgs/test/images')\n",
    "tgs_test_loader = DataLoader(tgs_test_dataset, batch_size=batch_size, shuffle=False, num_workers=0)"
   ]
  },
  {
   "cell_type": "code",
   "execution_count": 3,
   "metadata": {},
   "outputs": [],
   "source": [
    "model = torch.load('tgs_11_23_15_11.pth')"
   ]
  },
  {
   "cell_type": "code",
   "execution_count": 4,
   "metadata": {},
   "outputs": [],
   "source": [
    "device = torch.device('cuda')\n",
    "dtype = torch.float32"
   ]
  },
  {
   "cell_type": "code",
   "execution_count": 7,
   "metadata": {},
   "outputs": [
    {
     "name": "stdout",
     "output_type": "stream",
     "text": [
      "(18000, 1, 128, 128)\n"
     ]
    }
   ],
   "source": [
    "masks = []\n",
    "for i, sample_batch in enumerate(tgs_test_loader):\n",
    "    images = sample_batch['image'].to(device=device, dtype=dtype) / 1000000\n",
    "    outputs = model(images)\n",
    "    masks.append(outputs.to(device=torch.device('cpu')).detach().numpy())\n",
    "masks = np.concatenate(masks)"
   ]
  },
  {
   "cell_type": "code",
   "execution_count": 18,
   "metadata": {},
   "outputs": [],
   "source": [
    "for i in range(18000):\n",
    "    mask = transform.resize(masks[i].reshape(128,128),(101,101))\n",
    "    mask_zero = np.zeros_like(mask)\n",
    "    mask_zero[mask>0.5] = 1\n",
    "    test_df.iloc[i,1] = mask2rle(mask_zero)"
   ]
  },
  {
   "cell_type": "code",
   "execution_count": 20,
   "metadata": {},
   "outputs": [],
   "source": [
    "test_df.to_csv('submission.csv',index=False)"
   ]
  }
 ],
 "metadata": {
  "kernelspec": {
   "display_name": "Python 3",
   "language": "python",
   "name": "python3"
  },
  "language_info": {
   "codemirror_mode": {
    "name": "ipython",
    "version": 3
   },
   "file_extension": ".py",
   "mimetype": "text/x-python",
   "name": "python",
   "nbconvert_exporter": "python",
   "pygments_lexer": "ipython3",
   "version": "3.7.3"
  }
 },
 "nbformat": 4,
 "nbformat_minor": 2
}
