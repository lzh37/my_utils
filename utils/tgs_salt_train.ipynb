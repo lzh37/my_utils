{
 "cells": [
  {
   "cell_type": "code",
   "execution_count": 1,
   "metadata": {},
   "outputs": [],
   "source": [
    "from data_utils import TgsDataset\n",
    "from resunet import ResUnet\n",
    "from metric import metric\n",
    "from torch.utils.data import Dataset, DataLoader\n",
    "import torch.optim as optim\n",
    "import torch.nn.functional as F\n",
    "from sklearn.model_selection import train_test_split\n",
    "from matplotlib import pyplot as plt\n",
    "import pandas as pd\n",
    "import numpy as np\n",
    "import torch\n",
    "import random\n",
    "import os\n",
    "import torch.nn as nn"
   ]
  },
  {
   "cell_type": "code",
   "execution_count": 2,
   "metadata": {},
   "outputs": [],
   "source": [
    "batch_size = 40\n",
    "train_df = pd.read_csv('tgs/train.csv')\n",
    "test_df = pd.read_csv('tgs/sample_submission.csv')\n",
    "train_df, val_df = train_test_split(train_df,test_size=0.2,random_state=69)\n",
    "tgs_train_dataset = TgsDataset(train_df,'tgs/train/images','tgs/train/masks')\n",
    "tgs_val_dataset = TgsDataset(val_df,'tgs/train/images','tgs/train/masks')\n",
    "tgs_test_dataset = TgsDataset(test_df,'tgs/test/images')\n",
    "tgs_train_loader = DataLoader(tgs_train_dataset, batch_size=batch_size, shuffle=False, num_workers=0)\n",
    "tgs_val_loader = DataLoader(tgs_val_dataset, batch_size=batch_size, shuffle=False, num_workers=0)\n",
    "tgs_test_loader = DataLoader(tgs_test_dataset, batch_size=batch_size, shuffle=False, num_workers=0)"
   ]
  },
  {
   "cell_type": "code",
   "execution_count": 3,
   "metadata": {},
   "outputs": [],
   "source": [
    "#for i, sample_batch in enumerate(tgs_loader):\n",
    "#    if i == 1:\n",
    "#        print(sample_batch['image']*255)\n",
    "#        break"
   ]
  },
  {
   "cell_type": "code",
   "execution_count": 4,
   "metadata": {
    "scrolled": true
   },
   "outputs": [],
   "source": [
    "#plt.figure(figsize=(10,10))\n",
    "#for i, sample_batch in enumerate(tgs_loader):\n",
    "#    if i == 3:\n",
    "#        for g in range(batch_size):\n",
    "#            plt.subplot(batch_size,2,g*2+1)\n",
    "#            plt.imshow(np.transpose(sample_batch['image'][g].numpy(),(1,2,0)))\n",
    "#            plt.subplot(batch_size,2,g*2+2)\n",
    "#            plt.imshow(sample_batch['mask'][g].numpy())\n",
    "#        break\n",
    "#plt.tight_layout()\n",
    "#plt.show()"
   ]
  },
  {
   "cell_type": "code",
   "execution_count": 5,
   "metadata": {},
   "outputs": [],
   "source": [
    "device = torch.device('cuda')\n",
    "dtype = torch.float32\n",
    "#model = Unet([3,16,32,64,128,256]).to(device=device,dtype=dtype)"
   ]
  },
  {
   "cell_type": "code",
   "execution_count": 6,
   "metadata": {
    "scrolled": true
   },
   "outputs": [],
   "source": [
    "#for i, param in enumerate(model.parameters()):\n",
    "#    if i == 1:\n",
    "#        print(param)"
   ]
  },
  {
   "cell_type": "code",
   "execution_count": null,
   "metadata": {
    "scrolled": true
   },
   "outputs": [
    {
     "name": "stderr",
     "output_type": "stream",
     "text": [
      "F:\\Anaconda3\\lib\\site-packages\\torch\\serialization.py:292: UserWarning: Couldn't retrieve source code for container of type ResUnet. It won't be checked for correctness upon loading.\n",
      "  \"type \" + obj.__name__ + \". It won't be checked \"\n",
      "F:\\Anaconda3\\lib\\site-packages\\torch\\serialization.py:292: UserWarning: Couldn't retrieve source code for container of type Sequential. It won't be checked for correctness upon loading.\n",
      "  \"type \" + obj.__name__ + \". It won't be checked \"\n",
      "F:\\Anaconda3\\lib\\site-packages\\torch\\serialization.py:292: UserWarning: Couldn't retrieve source code for container of type Encoder. It won't be checked for correctness upon loading.\n",
      "  \"type \" + obj.__name__ + \". It won't be checked \"\n",
      "F:\\Anaconda3\\lib\\site-packages\\torch\\serialization.py:292: UserWarning: Couldn't retrieve source code for container of type EncoderBlock. It won't be checked for correctness upon loading.\n",
      "  \"type \" + obj.__name__ + \". It won't be checked \"\n",
      "F:\\Anaconda3\\lib\\site-packages\\torch\\serialization.py:292: UserWarning: Couldn't retrieve source code for container of type TwoResBlock. It won't be checked for correctness upon loading.\n",
      "  \"type \" + obj.__name__ + \". It won't be checked \"\n",
      "F:\\Anaconda3\\lib\\site-packages\\torch\\serialization.py:292: UserWarning: Couldn't retrieve source code for container of type ResBlock. It won't be checked for correctness upon loading.\n",
      "  \"type \" + obj.__name__ + \". It won't be checked \"\n",
      "F:\\Anaconda3\\lib\\site-packages\\torch\\serialization.py:292: UserWarning: Couldn't retrieve source code for container of type Conv2d. It won't be checked for correctness upon loading.\n",
      "  \"type \" + obj.__name__ + \". It won't be checked \"\n",
      "F:\\Anaconda3\\lib\\site-packages\\torch\\serialization.py:292: UserWarning: Couldn't retrieve source code for container of type BatchNorm2d. It won't be checked for correctness upon loading.\n",
      "  \"type \" + obj.__name__ + \". It won't be checked \"\n",
      "F:\\Anaconda3\\lib\\site-packages\\torch\\serialization.py:292: UserWarning: Couldn't retrieve source code for container of type ReLU. It won't be checked for correctness upon loading.\n",
      "  \"type \" + obj.__name__ + \". It won't be checked \"\n",
      "F:\\Anaconda3\\lib\\site-packages\\torch\\serialization.py:292: UserWarning: Couldn't retrieve source code for container of type MaxPool2d. It won't be checked for correctness upon loading.\n",
      "  \"type \" + obj.__name__ + \". It won't be checked \"\n",
      "F:\\Anaconda3\\lib\\site-packages\\torch\\serialization.py:292: UserWarning: Couldn't retrieve source code for container of type Dropout2d. It won't be checked for correctness upon loading.\n",
      "  \"type \" + obj.__name__ + \". It won't be checked \"\n",
      "F:\\Anaconda3\\lib\\site-packages\\torch\\serialization.py:292: UserWarning: Couldn't retrieve source code for container of type Decoder. It won't be checked for correctness upon loading.\n",
      "  \"type \" + obj.__name__ + \". It won't be checked \"\n",
      "F:\\Anaconda3\\lib\\site-packages\\torch\\serialization.py:292: UserWarning: Couldn't retrieve source code for container of type DecoderBlock. It won't be checked for correctness upon loading.\n",
      "  \"type \" + obj.__name__ + \". It won't be checked \"\n",
      "F:\\Anaconda3\\lib\\site-packages\\torch\\serialization.py:292: UserWarning: Couldn't retrieve source code for container of type ConvTranspose2d. It won't be checked for correctness upon loading.\n",
      "  \"type \" + obj.__name__ + \". It won't be checked \"\n",
      "F:\\Anaconda3\\lib\\site-packages\\torch\\serialization.py:292: UserWarning: Couldn't retrieve source code for container of type Sigmoid. It won't be checked for correctness upon loading.\n",
      "  \"type \" + obj.__name__ + \". It won't be checked \"\n"
     ]
    },
    {
     "name": "stdout",
     "output_type": "stream",
     "text": [
      "update model!! val_loss is 6.7862 , iou is 0.1370\n",
      "update model!! val_loss is 5.0391 , iou is 0.3605\n",
      "update model!! val_loss is 4.9344 , iou is 0.3968\n",
      "update model!! val_loss is 4.1449 , iou is 0.4851\n",
      "update model!! val_loss is 4.1017 , iou is 0.4830\n",
      "update model!! val_loss is 3.9571 , iou is 0.4992\n",
      "update model!! val_loss is 3.6678 , iou is 0.5308\n"
     ]
    }
   ],
   "source": [
    "best_val_loss = 10\n",
    "for n in range(20):\n",
    "    lr = 5e-2\n",
    "    decay = 0\n",
    "    break_num = 0\n",
    "    local_val_loss = 10\n",
    "    model = ResUnet([3,16,32,64,128,256]).to(device=device,dtype=dtype)\n",
    "    for e in range(8000):\n",
    "        optimizer = optim.Adam(model.parameters(), lr=lr)\n",
    "        for i, sample_batch in enumerate(tgs_train_loader):\n",
    "            images = sample_batch['image'].to(device=device, dtype=dtype)\n",
    "            targets = sample_batch['mask'].view(40,1,128,128).to(device=device, dtype=dtype)\n",
    "            outputs = model(images)\n",
    "            #print(outputs.shape)\n",
    "            #print(targets.shape)\n",
    "            train_loss = F.binary_cross_entropy(outputs,targets)\n",
    "            #if i % 20 == 0:\n",
    "            #    print(loss)\n",
    "            optimizer.zero_grad()\n",
    "            train_loss.backward()\n",
    "            optimizer.step()\n",
    "            #with torch.no_grad():\n",
    "            #    for k, w in enumerate(model.parameters()):\n",
    "            #        if k == 1:\n",
    "            #            print(w)\n",
    "            #            print(w.grad)\n",
    "            #        w -= lr * w.grad\n",
    "                \n",
    "            #       Manually zero the gradients after running the backward pass\n",
    "            #        w.grad.zero_()\n",
    "    \n",
    "        val_loss = 0\n",
    "        iou = 0\n",
    "        with torch.no_grad():\n",
    "            for j, sample_batch in enumerate(tgs_val_loader):\n",
    "                images = sample_batch['image'].to(device=device, dtype=dtype) #/ 1000000\n",
    "                targets = sample_batch['mask'].view(40,1,128,128).to(device=device, dtype=dtype)\n",
    "                outputs = model(images)\n",
    "                out = torch.zeros_like(outputs)\n",
    "                out[outputs>0.5] = 1\n",
    "                tar = torch.zeros_like(targets)\n",
    "                tar[targets>0.5] = 1\n",
    "                val_loss += F.binary_cross_entropy(out,tar)\n",
    "                iou += metric(out,tar)\n",
    "            val_loss /= 20\n",
    "            iou /= 20\n",
    "    \n",
    "        if val_loss < best_val_loss:\n",
    "            best_val_loss = val_loss\n",
    "            torch.save(model,'tgs_best_res_3.pth')\n",
    "            print('update model!! val_loss is %.4f , iou is %.4f' % (val_loss, iou))\n",
    "        \n",
    "        if val_loss < local_val_loss:\n",
    "            local_val_loss = val_loss\n",
    "            decay = 0\n",
    "            break_num = 0\n",
    "        else:\n",
    "            decay += 1\n",
    "            break_num += 1\n",
    "            \n",
    "        if decay > 4:\n",
    "            lr /= 2\n",
    "            decay = 0\n",
    "        \n",
    "        if break_num > 10:\n",
    "            break\n",
    "    \n",
    "    print('num : %d    train_loss : %.4f    val_loss : %.4f    iou : %.4f' % (n, train_loss, val_loss, iou))\n",
    "    print('\\n')\n",
    "    print('\\n')\n",
    "    \n",
    "        "
   ]
  },
  {
   "cell_type": "code",
   "execution_count": null,
   "metadata": {},
   "outputs": [],
   "source": []
  },
  {
   "cell_type": "code",
   "execution_count": null,
   "metadata": {},
   "outputs": [],
   "source": [
    "#for i, param in enumerate(model.parameters()):\n",
    "#    if i == 1:\n",
    "#        print(param)"
   ]
  },
  {
   "cell_type": "code",
   "execution_count": null,
   "metadata": {},
   "outputs": [],
   "source": [
    "#for i, sample_batch in enumerate(tgs_loader):\n",
    "#    if i == 1:\n",
    "#        images = sample_batch['image'].to(device=device, dtype=dtype) / 1000000\n",
    "#        mask = model(images)\n",
    "#        out = torch.zeros_like(mask)\n",
    "#        out[mask>0.5] =1\n",
    "#        plt.figure(figsize=(10,40))\n",
    "#        for j in range(10):\n",
    "#            plt.subplot(10,3,j*3+1)\n",
    "#            plt.imshow(np.transpose(sample_batch['image'][j].numpy(),(1,2,0)))\n",
    "#            plt.subplot(10,3,j*3+2)\n",
    "#            plt.imshow(sample_batch['mask'][j].numpy())\n",
    "#            plt.subplot(10,3,j*3+3)\n",
    "#            plt.imshow(out[j].view(128,128).to(device=torch.device('cpu')).numpy())\n",
    "#        plt.tight_layout()\n",
    "#        plt.show()\n",
    "#        break"
   ]
  }
 ],
 "metadata": {
  "kernelspec": {
   "display_name": "Python 3",
   "language": "python",
   "name": "python3"
  },
  "language_info": {
   "codemirror_mode": {
    "name": "ipython",
    "version": 3
   },
   "file_extension": ".py",
   "mimetype": "text/x-python",
   "name": "python",
   "nbconvert_exporter": "python",
   "pygments_lexer": "ipython3",
   "version": "3.7.3"
  }
 },
 "nbformat": 4,
 "nbformat_minor": 2
}
